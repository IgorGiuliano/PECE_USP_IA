{
  "nbformat": 4,
  "nbformat_minor": 0,
  "metadata": {
    "colab": {
      "provenance": []
    },
    "kernelspec": {
      "name": "python3",
      "display_name": "Python 3"
    }
  },
  "cells": [
    {
      "cell_type": "markdown",
      "metadata": {
        "id": "EzztbdQ_7QVn"
      },
      "source": [
        "# Exercícios em Python 6: Biblioteca padrão python, expressões regulares, csv, xml\n",
        "\n"
      ]
    },
    {
      "cell_type": "markdown",
      "metadata": {
        "id": "u7BDz8O1qaMd"
      },
      "source": [
        "## Preparando o ambiente\n",
        "\n",
        "Execute o código a seguir."
      ]
    },
    {
      "cell_type": "code",
      "metadata": {
        "id": "wo0Ow_IdVgtZ",
        "colab": {
          "base_uri": "https://localhost:8080/"
        },
        "outputId": "2ac27640-0eb6-4bad-8514-fb602784cc08"
      },
      "source": [
        "!git clone https://gitlab.uspdigital.usp.br/thiago/curso_ai_python.git\n",
        "import sys\n",
        "sys.path.append('curso_ai_python')"
      ],
      "execution_count": 1,
      "outputs": [
        {
          "output_type": "stream",
          "name": "stdout",
          "text": [
            "Cloning into 'curso_ai_python'...\n",
            "remote: Enumerating objects: 92, done.\u001b[K\n",
            "remote: Counting objects: 100% (59/59), done.\u001b[K\n",
            "remote: Compressing objects: 100% (58/58), done.\u001b[K\n",
            "remote: Total 92 (delta 29), reused 0 (delta 0), pack-reused 33 (from 1)\u001b[K\n",
            "Receiving objects: 100% (92/92), 28.45 KiB | 229.00 KiB/s, done.\n",
            "Resolving deltas: 100% (45/45), done.\n"
          ]
        }
      ]
    },
    {
      "cell_type": "markdown",
      "metadata": {
        "id": "Rou0RcBHC-Z3"
      },
      "source": [
        "# Se o bloco acima foi executado corretamente, você deve ver o contéudo do diretório ```curso_ai_pytho`/dados```:"
      ]
    },
    {
      "cell_type": "code",
      "metadata": {
        "id": "r9Q1G0SXu-Ir",
        "colab": {
          "base_uri": "https://localhost:8080/"
        },
        "outputId": "493c3e02-61ab-4536-d39c-9d68a495efd9"
      },
      "source": [
        "!ls -la curso_ai_python/dados/"
      ],
      "execution_count": 2,
      "outputs": [
        {
          "output_type": "stream",
          "name": "stdout",
          "text": [
            "total 32\n",
            "drwxr-xr-x 2 root root  4096 Apr 24 22:59 .\n",
            "drwxr-xr-x 5 root root  4096 Apr 24 22:59 ..\n",
            "-rw-r--r-- 1 root root    20 Apr 24 22:59 dados01.txt\n",
            "-rw-r--r-- 1 root root    50 Apr 24 22:59 dados02.txt\n",
            "-rw-r--r-- 1 root root 12633 Apr 24 22:59 telefones_epusp.txt\n"
          ]
        }
      ]
    },
    {
      "cell_type": "markdown",
      "metadata": {
        "id": "C19XUaGr7SEd"
      },
      "source": [
        "## 6.1 Leitura de dados em CSV\n",
        "\n",
        "O módulo ```csv``` em Python lê arquivos em formato CSV.\n",
        "\n",
        "A função ```csv.DictReader(arquivo)``` retorna uma lista de dicionários, um para cada linha do arquivo.\n",
        "\n",
        "Por exemplo, o código a seguir mostra o total de alunos estrangeiros no município de Araraquara."
      ]
    },
    {
      "cell_type": "code",
      "metadata": {
        "id": "TPb9Y02t8Pdu",
        "colab": {
          "base_uri": "https://localhost:8080/"
        },
        "outputId": "18b8ea97-de74-4173-cf67-3926ce857615"
      },
      "source": [
        "import urllib.request\n",
        "import csv\n",
        "import io\n",
        "import tempfile\n",
        "import ssl\n",
        "\n",
        "# Suprime verificação de SSL por problemas\n",
        "#  com a ICP Brasil\n",
        "ignorar_ssl = ssl.create_default_context()\n",
        "ignorar_ssl.check_hostname = False\n",
        "ignorar_ssl.verify_mode = ssl.CERT_NONE\n",
        "\n",
        "recurso = urllib.request.urlopen(\"https://dados.educacao.sp.gov.br/node/2054/download\", context=ignorar_ssl)\n",
        "recurso.read(3) # Retira os 3 primeiros bytes do arquivo\n",
        "leitorcsv = csv.DictReader(io.TextIOWrapper(recurso,encoding='utf-8'), delimiter=';')\n",
        "total = 0\n",
        "for entrada in leitorcsv:\n",
        "  if entrada['MUN']=='ARARAQUARA':\n",
        "    total += int(entrada[' Nº ALUNOS '])\n",
        "print(total)"
      ],
      "execution_count": 3,
      "outputs": [
        {
          "output_type": "stream",
          "name": "stdout",
          "text": [
            "50\n"
          ]
        }
      ]
    },
    {
      "cell_type": "code",
      "source": [
        "entrada"
      ],
      "metadata": {
        "id": "YqRrzOiVzqO4",
        "colab": {
          "base_uri": "https://localhost:8080/"
        },
        "outputId": "8345905e-7cfc-494a-b3b4-03f695ea248c"
      },
      "execution_count": 4,
      "outputs": [
        {
          "output_type": "execute_result",
          "data": {
            "text/plain": [
              "{'NOMEDEP': 'ESTADUAL - SE',\n",
              " 'DE': 'VOTUPORANGA',\n",
              " 'DISTR': 'VOTUPORANGA',\n",
              " 'MUN': 'VOTUPORANGA',\n",
              " 'TIPOESC': '8',\n",
              " 'COD_ESC': '44167',\n",
              " 'NOMESC': 'ENNY TEREZA LONGO FRACARO PROFA',\n",
              " 'DS_PAIS': 'Venezuela',\n",
              " ' Nº ALUNOS ': ' 9 '}"
            ]
          },
          "metadata": {},
          "execution_count": 4
        }
      ]
    },
    {
      "cell_type": "markdown",
      "metadata": {
        "id": "Joc2IWN095be"
      },
      "source": [
        "### Exercício 6.1.1\n",
        "\n",
        "Encontre o total de alunos provenientes do Uruguai matriculados em escolas de SP.\n",
        "O campo que contém o país é o campo com nome ```DS_PAIS```.\n"
      ]
    },
    {
      "cell_type": "code",
      "metadata": {
        "id": "Xb40md5e-iMp",
        "colab": {
          "base_uri": "https://localhost:8080/"
        },
        "outputId": "15dc6ce1-a43a-4ec0-a036-453a6dd3257d"
      },
      "source": [
        "import urllib.request\n",
        "import csv\n",
        "import io\n",
        "import ssl\n",
        "\n",
        "ignorar_ssl = ssl.create_default_context()\n",
        "ignorar_ssl.check_hostname = False\n",
        "ignorar_ssl.verify_mode = ssl.CERT_NONE\n",
        "\n",
        "recurso = urllib.request.urlopen(\"https://dados.educacao.sp.gov.br/node/2054/download\", context=ignorar_ssl)\n",
        "recurso.read(3)  # Retira os 3 primeiros bytes do arquivo\n",
        "leitorcsv = csv.DictReader(io.TextIOWrapper(recurso, encoding='utf-8'), delimiter=';')\n",
        "total = 0\n",
        "\n",
        "for entrada in leitorcsv:\n",
        "    if entrada['DS_PAIS'].strip() == 'Uruguai':\n",
        "        total += int(entrada[' Nº ALUNOS '])\n",
        "\n",
        "print(total)\n"
      ],
      "execution_count": 12,
      "outputs": [
        {
          "output_type": "stream",
          "name": "stdout",
          "text": [
            "18\n"
          ]
        }
      ]
    },
    {
      "cell_type": "markdown",
      "metadata": {
        "id": "2GwIplbx-rdV"
      },
      "source": [
        "A resposta deve ser 18"
      ]
    },
    {
      "cell_type": "markdown",
      "metadata": {
        "id": "YGQ4IlzYAcfH"
      },
      "source": [
        "### Exercício 6.1.2\n",
        "\n",
        "Quantos *distritos* distintos de escolas existem nesta lista? O campo que contém o tipo é ```DISTR```.\n",
        "Qual o tipo com a maior quantidade de alunos?\n",
        "\n",
        "Sugestão: Crie um dicionário.\n"
      ]
    },
    {
      "cell_type": "code",
      "metadata": {
        "id": "ZVbV7GhNA3HX",
        "colab": {
          "base_uri": "https://localhost:8080/"
        },
        "outputId": "75d723cf-7410-4a50-873e-89397d49431e"
      },
      "source": [
        "import urllib.request\n",
        "import csv\n",
        "import io\n",
        "import ssl\n",
        "\n",
        "ignorar_ssl = ssl.create_default_context()\n",
        "ignorar_ssl.check_hostname = False\n",
        "ignorar_ssl.verify_mode = ssl.CERT_NONE\n",
        "recurso = urllib.request.urlopen(\"https://dados.educacao.sp.gov.br/node/2054/download\", context=ignorar_ssl)\n",
        "recurso.read(3)  # Retira os 3 primeiros bytes do arquivo\n",
        "leitorcsv = csv.DictReader(io.TextIOWrapper(recurso, encoding='utf-8'), delimiter=';')\n",
        "\n",
        "distritos = {}\n",
        "\n",
        "for entrada in leitorcsv:\n",
        "    distrito = entrada['DISTR']\n",
        "    num_alunos = int(entrada[' Nº ALUNOS '])\n",
        "\n",
        "    if distrito in distritos:\n",
        "        distritos[distrito] += num_alunos\n",
        "    else:\n",
        "        distritos[distrito] = num_alunos\n",
        "\n",
        "\n",
        "num_distritos = len(distritos)\n",
        "distrito_maior_qtd = max(distritos, key=distritos.get)\n",
        "qtd_maior_qtd = distritos[distrito_maior_qtd]\n",
        "\n",
        "print(f\"Quantidade de distritos distintos: {num_distritos}\")\n",
        "print(f\"O distrito com a maior quantidade de alunos é {distrito_maior_qtd} com {qtd_maior_qtd} alunos.\")\n"
      ],
      "execution_count": 16,
      "outputs": [
        {
          "output_type": "stream",
          "name": "stdout",
          "text": [
            "Quantidade de distritos distintos: 419\n",
            "O distrito com a maior quantidade de alunos é VILA MARIA com 642 alunos.\n"
          ]
        }
      ]
    },
    {
      "cell_type": "markdown",
      "metadata": {
        "id": "8kqYVJj5H3Lo"
      },
      "source": [
        "A resposta deve ser 419 distritos distintos. O tipo com a maior quantidade é o ```VILA MARIA``` com 642 alunos."
      ]
    },
    {
      "cell_type": "markdown",
      "metadata": {
        "id": "q2PK9MPfBUC4"
      },
      "source": [
        "## 6.2 Processamento de XML\n",
        "\n",
        "A url ```https://olinda.bcb.gov.br/olinda/servico/PTAX/versao/v1/odata/CotacaoDolarDia(dataCotacao=@dataCotacao)?@dataCotacao='04-23-2020'&$top=100&$format=xml&$select=cotacaoCompra,cotacaoVenda,dataHoraCotacao``` recupera o relatório de cotação do dólar do Banco central em formato xml e grava-o no arquivo cotacao_dolar.xml.\n",
        "\n"
      ]
    },
    {
      "cell_type": "code",
      "metadata": {
        "id": "v031QrXFCSJq"
      },
      "source": [
        "req=urllib.request.urlopen(\"https://olinda.bcb.gov.br/olinda/servico/PTAX/versao/v1/odata/CotacaoDolarPeriodo(dataInicial=@dataInicial,dataFinalCotacao=@dataFinalCotacao)?@dataInicial='01-01-2024'&@dataFinalCotacao='05-03-2024'&$top=200&$format=xml&$select=cotacaoCompra,cotacaoVenda,dataHoraCotacao\")\n",
        "ff = open(\"cotacao_dolar.xml\", \"wb\")\n",
        "ff.write(req.read())\n",
        "ff.close()"
      ],
      "execution_count": 20,
      "outputs": []
    },
    {
      "cell_type": "markdown",
      "metadata": {
        "id": "qv_dIOsSDEUm"
      },
      "source": [
        "\n",
        "\n",
        "O código abaixo usa xml para encontrar o valor da cotação no dia 17/03/2024"
      ]
    },
    {
      "cell_type": "code",
      "metadata": {
        "id": "KZcC5vMsD3yW",
        "colab": {
          "base_uri": "https://localhost:8080/"
        },
        "outputId": "f6f9dbb4-2a5e-4d86-c29f-49b096f40c4d"
      },
      "source": [
        "import xml.etree.ElementTree\n",
        "raiz = xml.etree.ElementTree.parse(\"cotacao_dolar.xml\").getroot()\n",
        "for el in raiz.iter('{http://docs.oasis-open.org/odata/ns/metadata}properties'):\n",
        "  hora = el.find('{http://docs.oasis-open.org/odata/ns/data}dataHoraCotacao')\n",
        "  if hora.text.startswith('2024-05-02'):\n",
        "    no_venda = el.find('{http://docs.oasis-open.org/odata/ns/data}cotacaoVenda')\n",
        "    valor = float(no_venda.text)\n",
        "    print(valor)\n",
        "\n"
      ],
      "execution_count": 18,
      "outputs": [
        {
          "output_type": "stream",
          "name": "stdout",
          "text": [
            "5.1184\n"
          ]
        }
      ]
    },
    {
      "cell_type": "markdown",
      "metadata": {
        "id": "HwtS70WnHJi4"
      },
      "source": [
        "Exercício:\n",
        "\n",
        "Encontre o *menor* valor de cotação do dólar para venda (campo com etiqueta ```{http://docs.oasis-open.org/odata/ns/data}cotacaoVenda'```).\n",
        "\n",
        "Você deve encontrar 4.8543"
      ]
    },
    {
      "cell_type": "code",
      "metadata": {
        "id": "Z1boMcqO4WAt",
        "colab": {
          "base_uri": "https://localhost:8080/"
        },
        "outputId": "339aecdb-eacc-4084-c522-497e6087f7ca"
      },
      "source": [
        "import xml.etree.ElementTree\n",
        "menorValorCotacaoVenda = float('inf')\n",
        "\n",
        "raiz = xml.etree.ElementTree.parse(\"cotacao_dolar.xml\").getroot()\n",
        "for el in raiz.iter('{http://docs.oasis-open.org/odata/ns/metadata}properties'):\n",
        "  cotacaoVenda = el.find('{http://docs.oasis-open.org/odata/ns/data}cotacaoVenda')\n",
        "  if cotacaoVenda is not None:\n",
        "        valor = float(cotacaoVenda.text)\n",
        "\n",
        "        if valor < menorValorCotacaoVenda:\n",
        "            menorValorCotacaoVenda = valor\n",
        "\n",
        "print(f\"O menor valor de cotação do dólar para venda é: {menorValorCotacaoVenda}\")"
      ],
      "execution_count": 30,
      "outputs": [
        {
          "output_type": "stream",
          "name": "stdout",
          "text": [
            "O menor valor de cotação do dólar para venda é: 4.8543\n"
          ]
        }
      ]
    },
    {
      "cell_type": "markdown",
      "metadata": {
        "id": "Y3fBoXFSHrAe"
      },
      "source": [
        "A resposta deve ser 4.8543"
      ]
    },
    {
      "cell_type": "markdown",
      "metadata": {
        "id": "bdTCDbolwdYj"
      },
      "source": [
        "## 5.3  Expressões Regulares\n",
        "\n",
        "A linguagem Python tem uma biblioteca de expressões regulares.\n",
        "\n",
        "A função ```re.search(exp, string)``` verifica se uma string é aderente a um determinado padrão.\n",
        "\n",
        "### Exercícios:\n",
        "\n",
        "O arquivo em ```/content/gdrive/My Drive/cursoai_python_aula_03/dados/telefones_epusp.txt``` contém uma lista telefônica em um texto não-estruturado com telefones úteis da escola politécnica.\n",
        "\n",
        "Eis o conteúdo de suas 10 primeiras linhas:"
      ]
    },
    {
      "cell_type": "code",
      "metadata": {
        "id": "VBQEHIv0wtR2"
      },
      "source": [
        "arquivo = open(\"/content/curso_ai_python/dados/telefones_epusp.txt\", \"rt\")\n",
        "for i in range(10):\n",
        "  print(arquivo.readline())\n",
        "arquivo.close()"
      ],
      "execution_count": null,
      "outputs": []
    },
    {
      "cell_type": "markdown",
      "metadata": {
        "id": "ziJy9Y-O6zx9"
      },
      "source": [
        "### 5.3.1 Conte o número de linhas com telefones\n",
        "\n",
        "A expressão regular ```([0-9]+([\\s-]+[0-9]+)*)(\\s?/\\s?([0-9]+([\\s-]+[0-9]+)*))*$``` casa com um ou mais números de telefone *ao final de uma linha*.\n",
        "\n",
        "Verifique usando o módulo re quantas linhas atendem este padrão.\n",
        "Você deve encontrar 255 números."
      ]
    },
    {
      "cell_type": "code",
      "metadata": {
        "id": "caR8jzJM6wUx",
        "colab": {
          "base_uri": "https://localhost:8080/"
        },
        "outputId": "4dfd80b4-232b-416a-c5cf-cd607628c85d"
      },
      "source": [
        "import re\n",
        "\n",
        "file_path = \"/content/curso_ai_python/dados/telefones_epusp.txt\"\n",
        "\n",
        "pattern = re.compile(r\"([0-9]+([\\s-]+[0-9]+)*)(\\s?/\\s?([0-9]+([\\s-]+[0-9]+)*))*$\")\n",
        "\n",
        "matching_lines = 0\n",
        "\n",
        "with open(file_path, 'r', encoding='utf-8') as file:\n",
        "    for line in file:\n",
        "        if pattern.search(line.strip()):\n",
        "            matching_lines += 1\n",
        "\n",
        "print(matching_lines)"
      ],
      "execution_count": 40,
      "outputs": [
        {
          "output_type": "stream",
          "name": "stdout",
          "text": [
            "255\n"
          ]
        }
      ]
    }
  ]
}