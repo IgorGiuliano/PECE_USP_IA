{
  "cells": [
    {
      "cell_type": "markdown",
      "metadata": {
        "id": "EzztbdQ_7QVn"
      },
      "source": [
        "# Exercícios em Python 5: Biblioteca padrão python, arquivos, http, json\n",
        "\n",
        "\n"
      ]
    },
    {
      "cell_type": "markdown",
      "metadata": {
        "id": "u7BDz8O1qaMd"
      },
      "source": [
        "## Preparando o ambiente\n",
        "\n",
        "Este notebook usa códigos no pacote ceai_python_aula04.py.\n",
        "Verifique se o seu google drive contém a pasta cursoai_python_aula_04.\n",
        "\n",
        "Em seguida execute o código a seguir."
      ]
    },
    {
      "cell_type": "code",
      "execution_count": 1,
      "metadata": {
        "id": "wo0Ow_IdVgtZ",
        "colab": {
          "base_uri": "https://localhost:8080/"
        },
        "outputId": "db28ebe7-c62d-402c-8631-3be3ca4added"
      },
      "outputs": [
        {
          "output_type": "stream",
          "name": "stdout",
          "text": [
            "Cloning into 'curso_ai_python'...\n",
            "remote: Enumerating objects: 92, done.\u001b[K\n",
            "remote: Counting objects: 100% (59/59), done.\u001b[K\n",
            "remote: Compressing objects: 100% (58/58), done.\u001b[K\n",
            "remote: Total 92 (delta 29), reused 0 (delta 0), pack-reused 33 (from 1)\u001b[K\n",
            "Receiving objects: 100% (92/92), 28.45 KiB | 260.00 KiB/s, done.\n",
            "Resolving deltas: 100% (45/45), done.\n"
          ]
        }
      ],
      "source": [
        "!git clone https://gitlab.uspdigital.usp.br/thiago/curso_ai_python.git\n",
        "import sys\n",
        "sys.path.append('curso_ai_python')"
      ]
    },
    {
      "cell_type": "markdown",
      "metadata": {
        "id": "Rou0RcBHC-Z3"
      },
      "source": [
        "Se o bloco acima foi executado corretamente, importe os símbolos com a linha seguinte:"
      ]
    },
    {
      "cell_type": "code",
      "execution_count": 2,
      "metadata": {
        "id": "r9Q1G0SXu-Ir",
        "colab": {
          "base_uri": "https://localhost:8080/"
        },
        "outputId": "d0bdef10-e965-4aa2-e51c-2d91f55844e1"
      },
      "outputs": [
        {
          "output_type": "stream",
          "name": "stdout",
          "text": [
            "Ambiente inicializado com sucesso\n"
          ]
        }
      ],
      "source": [
        "import ceai_python_aula07"
      ]
    },
    {
      "cell_type": "markdown",
      "metadata": {
        "id": "bdTCDbolwdYj"
      },
      "source": [
        "## 5.1  Arquivos\n",
        "\n",
        "A linguagem Python tem uma biblioteca de arquivos.\n",
        "\n",
        "Arquivos são abertos com a função ```open```.\n",
        "\n",
        "O código abaixo cria um arquivo ```teste.txt``` dentro do diretório ```content```, que é o diretório padrão do colab."
      ]
    },
    {
      "cell_type": "code",
      "execution_count": 3,
      "metadata": {
        "id": "VBQEHIv0wtR2"
      },
      "outputs": [],
      "source": [
        "arquivo = open(\"teste.txt\", \"tw\")\n",
        "arquivo.close()"
      ]
    },
    {
      "cell_type": "markdown",
      "metadata": {
        "id": "v6zPjtNNxVj0"
      },
      "source": [
        "Verifique na aba de arquivos que existe o arquivo teste.txt.\n",
        "\n",
        "a função ```open``` retorna um objeto de arquivo.\n",
        "\n",
        "Escreve-se em arquivos com o método ```write```.\n",
        "\n",
        "Por exemplo, o código abaixo escreve ```Isso é um teste``` no arquivo ```teste.txt```:"
      ]
    },
    {
      "cell_type": "code",
      "execution_count": 4,
      "metadata": {
        "id": "rXBGURSgxxlL"
      },
      "outputs": [],
      "source": [
        "arquivo = open(\"teste.txt\", \"tw\")\n",
        "arquivo.write(\"Isso é um teste\")\n",
        "arquivo.close()"
      ]
    },
    {
      "cell_type": "markdown",
      "metadata": {
        "id": "iA6tm_v5x685"
      },
      "source": [
        "Verifique o conteúdo do arquivo.\n",
        "\n",
        "O arquivo aberto com o modo \"tw\" é um arquivo aberto em modo texto para escrita truncada, ou seja, o conteúdo original do arquivo é *destruído*.\n",
        "\n",
        "Um arquivo pode ser lido com as funções ```read```, que retorna todo o conteúdo do arquivo, a função ```readline()``` que lê uma única linha do arquivo e a função ```readlines``` que lê *todas* as linhas de um arquivo.\n",
        "\n",
        "Por exemplo, o código a seguir lê a primeira linha do arquivo criado anteriormente."
      ]
    },
    {
      "cell_type": "code",
      "execution_count": 5,
      "metadata": {
        "id": "LK6RFjM90J-b",
        "colab": {
          "base_uri": "https://localhost:8080/"
        },
        "outputId": "e79a0051-1ba2-49b3-ebc5-138e7cd75768"
      },
      "outputs": [
        {
          "output_type": "stream",
          "name": "stdout",
          "text": [
            "Isso é um teste\n"
          ]
        }
      ],
      "source": [
        "arquivo = open(\"teste.txt\", \"tr\")\n",
        "print(arquivo.readline())\n",
        "arquivo.close()"
      ]
    },
    {
      "cell_type": "markdown",
      "metadata": {
        "id": "pEH3Wz4p1cTT"
      },
      "source": [
        "### Exercício 5.1.1\n",
        "\n",
        "Leia todas as linhas do arquivo ```/content/curso_ai_python/dados/dados01.txt``` e coloque-as em uma sequência na variável ```linhas```"
      ]
    },
    {
      "cell_type": "code",
      "execution_count": 6,
      "metadata": {
        "id": "xOZTUoIk17wF"
      },
      "outputs": [],
      "source": [
        "with open('/content/curso_ai_python/dados/dados01.txt', 'r') as arquivo:\n",
        "    linhas = arquivo.readlines()"
      ]
    },
    {
      "cell_type": "markdown",
      "metadata": {
        "id": "tHMiSK4Z18Pt"
      },
      "source": [
        "Teste sua resposta:"
      ]
    },
    {
      "cell_type": "code",
      "execution_count": 7,
      "metadata": {
        "id": "RZe6XY_M19zr",
        "colab": {
          "base_uri": "https://localhost:8080/",
          "height": 40
        },
        "outputId": "2c124810-0f70-4711-8cbf-4dc6c312ff67"
      },
      "outputs": [
        {
          "output_type": "execute_result",
          "data": {
            "text/plain": [
              "<ceai_python_aula07.SolucaoResultado at 0x79a81113ee50>"
            ],
            "text/html": [
              "<div style=\"border-style:solid;border-color:green\">Exercício Correto!</div>"
            ]
          },
          "metadata": {},
          "execution_count": 7
        }
      ],
      "source": [
        "ceai_python_aula07.valida_ex_05_01_01(linhas)"
      ]
    },
    {
      "cell_type": "markdown",
      "metadata": {
        "id": "aOYvkNYM4naH"
      },
      "source": [
        "### Exercício 5.1.2\n",
        "\n",
        "Escreva código em Python que procura no arquivo ```/curso_ai_python/dados/dados02.txt``` uma linha iniciada por ```parametro_01```...\n",
        "Atribua à variável ```linha``` o conteúdo desta linha.\n",
        "\n",
        "*Sugestão*: O método ```.startswith(valor)``` retorna ```True``` se a string sobre a qual é chamado inicia-se com ```valor```."
      ]
    },
    {
      "cell_type": "code",
      "execution_count": 16,
      "metadata": {
        "id": "GtZVcgrc4mkK"
      },
      "outputs": [],
      "source": [
        "with open('/content/curso_ai_python/dados/dados02.txt', 'r') as arquivo:\n",
        "    for line in arquivo:\n",
        "        if line.startswith('parametro_01'):\n",
        "            linha = line\n",
        "            break"
      ]
    },
    {
      "cell_type": "markdown",
      "metadata": {
        "id": "GYY3zawx5Dwh"
      },
      "source": [
        "Teste sua resposta:"
      ]
    },
    {
      "cell_type": "code",
      "execution_count": 17,
      "metadata": {
        "id": "W5vSzRR74m5K",
        "colab": {
          "base_uri": "https://localhost:8080/",
          "height": 40
        },
        "outputId": "9645b1ee-37b7-4e18-a670-633d9738401e"
      },
      "outputs": [
        {
          "output_type": "execute_result",
          "data": {
            "text/plain": [
              "<ceai_python_aula07.SolucaoResultado at 0x79a7f8472f50>"
            ],
            "text/html": [
              "<div style=\"border-style:solid;border-color:green\">Exercício Correto!</div>"
            ]
          },
          "metadata": {},
          "execution_count": 17
        }
      ],
      "source": [
        "ceai_python_aula07.valida_ex_05_01_02(linha)"
      ]
    },
    {
      "cell_type": "markdown",
      "metadata": {
        "id": "sOdbhxzK57h6"
      },
      "source": [
        "### Exercício 5.1.3\n",
        "\n",
        "Crie o arquivo ```resultado.txt``` dentro do diretório ```content``` (que é o diretório padrão).\n",
        "\n",
        "Este arquivo deve conter os valores dos quadrados dos 10 primeiros inteiros positivos (começando por 1).\n",
        "\n",
        "*Sugestão*:\n",
        "Para delimitar uma linha em um arquivo, chame o método ```write``` passando a string ```'\\n'```.\n"
      ]
    },
    {
      "cell_type": "code",
      "execution_count": null,
      "metadata": {
        "id": "rvbNTUYf6iE7"
      },
      "outputs": [],
      "source": [
        "# Complete com seu código"
      ]
    },
    {
      "cell_type": "markdown",
      "metadata": {
        "id": "UE09_Kxb6i-h"
      },
      "source": [
        "Teste a sua resposta"
      ]
    },
    {
      "cell_type": "code",
      "execution_count": null,
      "metadata": {
        "id": "DI-hOzxP6lVt"
      },
      "outputs": [],
      "source": [
        "ceai_python_aula07.valida_ex_05_01_03()"
      ]
    },
    {
      "cell_type": "markdown",
      "metadata": {
        "id": "THM5xJGDoz_A"
      },
      "source": [
        "## 5.2 Processando dados em JSON.\n",
        "\n",
        "O formato JSON (JavaScript Object Notation) tem tornado-se cada vez mais prevalente na internet para intercâmbio de objetos.\n",
        "\n",
        "Este é um formato que codifica objetos compostos em um formato similar ao da linguagem JavaScript.\n",
        "\n",
        "O Módulo ```json``` é capaz de codificar e decodificar tipos básicos em python bem como boa parte dos tipos agregados, como sequências, strings e dicionários.\n",
        "\n",
        "O exemplo a seguir mostra a codificação em JSON de tipos básicos e alguns agregados."
      ]
    },
    {
      "cell_type": "code",
      "execution_count": 18,
      "metadata": {
        "id": "rbgteJZbp_eI",
        "colab": {
          "base_uri": "https://localhost:8080/"
        },
        "outputId": "37dcabed-86ff-4e26-f9bf-50fada79177c"
      },
      "outputs": [
        {
          "output_type": "stream",
          "name": "stdout",
          "text": [
            "1\n",
            "0.001\n",
            "\"teste\"\n",
            "[1, 2, 3]\n",
            "{\"chave 1\": 1}\n",
            "{\"1\": 1}\n",
            "[1, 2, 3]\n"
          ]
        }
      ],
      "source": [
        "import json\n",
        "\n",
        "print(json.dumps(1))\n",
        "print(json.dumps(0.001))\n",
        "print(json.dumps('teste'))\n",
        "print(json.dumps([1,2,3]))\n",
        "print(json.dumps({'chave 1': 1}))\n",
        "print(json.dumps({1: 1}))\n",
        "print(json.dumps((1,2,3)))"
      ]
    },
    {
      "cell_type": "markdown",
      "metadata": {
        "id": "SbTmdcI9ru2P"
      },
      "source": [
        "Observe como a sintaxe da codificação é virtualmente idêntica a da linguagem Python.\n",
        "Uma notória exceção é a codificação de tuplas, que são condificadas como sequências, e das chaves de dicionários, que são *sempre* convertidas para Strings.\n",
        "\n",
        "É possível também escrever diretamente em um arquivo com a função ```dump```:"
      ]
    },
    {
      "cell_type": "code",
      "execution_count": 19,
      "metadata": {
        "id": "VlQ2yVAowH4q",
        "colab": {
          "base_uri": "https://localhost:8080/"
        },
        "outputId": "420bd24d-116e-4b5c-cf36-d851ff2fe1e9"
      },
      "outputs": [
        {
          "output_type": "stream",
          "name": "stdout",
          "text": [
            "[1, 2, 3, 4, 5]\n"
          ]
        }
      ],
      "source": [
        "with open(\"exemplo.json\", \"wt\") as arquivo:\n",
        "  json.dump([1,2,3,4,5], arquivo)\n",
        "with open(\"exemplo.json\", \"rt\") as arquivo:\n",
        "  linhas = arquivo.readlines()\n",
        "for linha in linhas:\n",
        "  print(linha)"
      ]
    },
    {
      "cell_type": "markdown",
      "metadata": {
        "id": "K2rAks24v6k0"
      },
      "source": [
        "### Exercício 5.2.1\n",
        "\n",
        "Escreva um arquivo com o nome ```resultado.json``` contendo um dicionário cujas chaves são números de 1 a 100 e os valores são os quadrados dos respectivos números."
      ]
    },
    {
      "cell_type": "code",
      "execution_count": 20,
      "metadata": {
        "id": "on7v781utbwf",
        "colab": {
          "base_uri": "https://localhost:8080/",
          "height": 35
        },
        "outputId": "b6e7fcc3-4070-40da-d03d-ab185757d7da"
      },
      "outputs": [
        {
          "output_type": "execute_result",
          "data": {
            "text/plain": [
              "'/content/resultado.json'"
            ],
            "application/vnd.google.colaboratory.intrinsic+json": {
              "type": "string"
            }
          },
          "metadata": {},
          "execution_count": 20
        }
      ],
      "source": [
        "import json\n",
        "\n",
        "# Criando o dicionário com números de 1 a 100 e seus quadrados\n",
        "resultado = {i: i**2 for i in range(1, 101)}\n",
        "\n",
        "# Definindo o caminho do arquivo\n",
        "file_path = '/content/resultado.json'\n",
        "\n",
        "# Escrevendo o dicionário no arquivo JSON\n",
        "with open(file_path, 'w') as f:\n",
        "    json.dump(resultado, f)\n",
        "\n",
        "file_path  # Retorna o caminho do arquivo gerado\n"
      ]
    },
    {
      "cell_type": "markdown",
      "metadata": {
        "id": "ws9lZcGNtcOm"
      },
      "source": [
        "Verifique sua resposta:"
      ]
    },
    {
      "cell_type": "code",
      "execution_count": 21,
      "metadata": {
        "id": "254-qQ2gtdub",
        "colab": {
          "base_uri": "https://localhost:8080/",
          "height": 40
        },
        "outputId": "c2f44cb8-e298-4358-9373-e5edd9cf5149"
      },
      "outputs": [
        {
          "output_type": "execute_result",
          "data": {
            "text/plain": [
              "<ceai_python_aula07.SolucaoResultado at 0x79a7f849c850>"
            ],
            "text/html": [
              "<div style=\"border-style:solid;border-color:green\">Exercício Correto!</div>"
            ]
          },
          "metadata": {},
          "execution_count": 21
        }
      ],
      "source": [
        "ceai_python_aula07.valida_ex_05_02_01()"
      ]
    },
    {
      "cell_type": "markdown",
      "metadata": {
        "id": "cfg4lYaWbAvq"
      },
      "source": [
        "## 5.3 Acessando recursos da rede com o pacote ```urllib```\n",
        "\n",
        "O pacote ```urllib``` é um pacote que permite acessar recursos na Internet por meio de suas urls.\n",
        "\n",
        "O resultado de uma solicitação http é um objeto do tipo ```HTTPRequest```. Este objeto é relativamente complexo, dada a versatilidade do protocolo http.\n",
        "\n",
        "Exemplo: O código abaixo recupera o endereço IP da máquina atual pela url [https://api6.ipify.org/](https://api6.ipify.org/).\n"
      ]
    },
    {
      "cell_type": "code",
      "execution_count": 22,
      "metadata": {
        "id": "XNK-tnIcgRNH",
        "colab": {
          "base_uri": "https://localhost:8080/"
        },
        "outputId": "8aa2794f-d250-42bb-d878-1551d5fcfe87"
      },
      "outputs": [
        {
          "output_type": "stream",
          "name": "stdout",
          "text": [
            "34.138.12.113\n"
          ]
        }
      ],
      "source": [
        "import urllib.request\n",
        "resposta = urllib.request.urlopen('https://api.ipify.org/')\n",
        "codificacao='UTF-8'\n",
        "for content_spec in resposta.headers['Content-Type'].split(';'):\n",
        "    if content_spec.startswith('charset'):\n",
        "      codificacao = content_spec.split('=')[1].lstrip()\n",
        "print(resposta.read().decode(codificacao))"
      ]
    },
    {
      "cell_type": "markdown",
      "metadata": {
        "id": "w6uaqgDuhG5H"
      },
      "source": [
        "### Exercício 5.3.1\n",
        "\n",
        "Crie uma função que recupera a temperatura em São Paulo.\n",
        "Use o serviço [http://open-meteo.com](http://open-meteo.com).\n",
        "\n",
        "A url para recuperar a temperatura é\n",
        "```\n",
        "https://api.open-meteo.com/v1/forecast?latitude=XXXX&longitude=YYYYY&current=temperature_2m\n",
        "```\n",
        "onde ```XXXX``` é a latitude do local e ```YYYY``` é a longitude.\n",
        "Note que as coordenadas de São Paulo são -23.5558 graus de Latitude (Negativos, ou seja, Sul) e -46.6396 graus de Longitude (Negativos, ou seja, Oeste).\n",
        "\n",
        "*Atenção!* O resultado desta busca é um JSON.\n",
        "Use a função ```json.loads(string)``` para converter uma string em um dicionário.\n",
        "\n",
        "O objeto resultante é um dicionário.\n",
        "A temperatura atual está dentro do objeto ```current```.\n",
        "Este objeto, por sua vez, também é um dicionário.\n",
        "O valor da temperatura atual, em graus Celsius, está sob a chave ```temperature_2m```.\n",
        "\n",
        "\n",
        "Você deve retornar este valor.\n"
      ]
    },
    {
      "cell_type": "code",
      "execution_count": 27,
      "metadata": {
        "id": "7sDfv9Iqlq6I"
      },
      "outputs": [],
      "source": [
        "import requests\n",
        "import json\n",
        "\n",
        "def recupera_temperatura_online():\n",
        "    latitude = -23.5558\n",
        "    longitude = -46.6396\n",
        "    url = f\"https://api.open-meteo.com/v1/forecast?latitude={latitude}&longitude={longitude}&current=temperature_2m\"\n",
        "    response = requests.get(url)\n",
        "    data = response.json()\n",
        "    temperatura = data['current']['temperature_2m']\n",
        "    return temperatura"
      ]
    },
    {
      "cell_type": "markdown",
      "metadata": {
        "id": "bJNjkVt01lt_"
      },
      "source": [
        "Verifique sua resposta:\n",
        "\n"
      ]
    },
    {
      "cell_type": "code",
      "execution_count": 28,
      "metadata": {
        "id": "Srn5A6Q-1ndq",
        "colab": {
          "base_uri": "https://localhost:8080/",
          "height": 76
        },
        "outputId": "e2b1c6ce-5082-4ffb-9565-faa628542c11"
      },
      "outputs": [
        {
          "output_type": "execute_result",
          "data": {
            "text/plain": [
              "<ceai_python_aula07.SolucaoResultado at 0x79a811baf950>"
            ],
            "text/html": [
              "<div style=\"border-style:solid;border-color:green\"><p>Exercício Correto!</p><p>Temperatura obtida: 20.5</p></div>"
            ]
          },
          "metadata": {},
          "execution_count": 28
        }
      ],
      "source": [
        "ceai_python_aula07.valida_ex_05_03_01(recupera_temperatura_online)"
      ]
    }
  ],
  "metadata": {
    "colab": {
      "provenance": []
    },
    "kernelspec": {
      "display_name": "Python 3",
      "name": "python3"
    }
  },
  "nbformat": 4,
  "nbformat_minor": 0
}